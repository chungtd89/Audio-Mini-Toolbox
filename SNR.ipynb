{
 "cells": [
  {
   "cell_type": "code",
   "execution_count": 65,
   "metadata": {},
   "outputs": [
    {
     "data": {
      "text/plain": [
       "'\\nhttps://training.ti.com/signal-noise-measurements-audio-applications\\n\\nSNR as dB = 20 log (Desired Signal / Background Noise) (dB)\\n\\ndB  | Volume Loudness\\n0   | 1.0\\n+6  | 1.52\\n+10 | 2.0\\n+20 | 4.0\\n+40 | 16.0\\n'"
      ]
     },
     "execution_count": 65,
     "metadata": {},
     "output_type": "execute_result"
    }
   ],
   "source": [
    "import numpy as np\n",
    "from numpy.linalg import norm\n",
    "import scipy\n",
    "from scipy import stats \n",
    "import librosa\n",
    "import librosa.display\n",
    "import control #mag2db\n",
    "import matplotlib.pyplot as plt\n",
    "import math\n",
    "'''\n",
    "https://training.ti.com/signal-noise-measurements-audio-applications\n",
    "\n",
    "SNR as dB = 20 log (Desired Signal / Background Noise) (dB)\n",
    "\n",
    "dB  | Volume Loudness\n",
    "0   | 1.0\n",
    "+6  | 1.52\n",
    "+10 | 2.0\n",
    "+20 | 4.0\n",
    "+40 | 16.0\n",
    "'''"
   ]
  },
  {
   "cell_type": "code",
   "execution_count": 54,
   "metadata": {},
   "outputs": [
    {
     "data": {
      "text/plain": [
       "'\\nprint (\"\\nsignaltonoise ratio for arr1 : \",  \\n       signaltonoise(arr1, axis = 0, ddof = 0)) \\n  \\nprint (\"\\nsignaltonoise ratio for arr1 : \",  \\n       signaltonoise(arr1, axis = 1, ddof = 0)) \\n  \\nprint (\"\\nsignaltonoise ratio for arr2 : \",  \\n       signaltonoise(arr2, axis = 0, ddof = 0)) \\n'"
      ]
     },
     "execution_count": 54,
     "metadata": {},
     "output_type": "execute_result"
    }
   ],
   "source": [
    "#this function does not follow definition of SNR in mathematics:\n",
    "#return value is The mean to standard deviation ratio(s) along axis, or 0 where the standard deviation is 0.\n",
    "#signal to noise ratio\n",
    "#https://www.geeksforgeeks.org/scipy-stats-signaltonoise-function-python/\n",
    "def signaltonoise(a, axis=0, ddof=0):\n",
    "    a = np.asanyarray(a)\n",
    "    m = a.mean(axis)\n",
    "    sd = a.std(axis=axis, ddof=ddof)\n",
    "    return np.where(sd == 0, 0, m/sd)\n",
    "\n",
    "'''\n",
    "print (\"\\nsignaltonoise ratio for arr1 : \",  \n",
    "       signaltonoise(arr1, axis = 0, ddof = 0)) \n",
    "  \n",
    "print (\"\\nsignaltonoise ratio for arr1 : \",  \n",
    "       signaltonoise(arr1, axis = 1, ddof = 0)) \n",
    "  \n",
    "print (\"\\nsignaltonoise ratio for arr2 : \",  \n",
    "       signaltonoise(arr2, axis = 0, ddof = 0)) \n",
    "'''"
   ]
  },
  {
   "cell_type": "code",
   "execution_count": 16,
   "metadata": {},
   "outputs": [],
   "source": [
    "#this function does not work correctly\n",
    "#https://python-deltasigma.readthedocs.io/en/latest/_modules/deltasigma/_calculateSNR.html\n",
    "#replace dbv by control.mag2db for calculating dB value from ratio\n",
    "def calculateSNR(hwfft, f, nsig=1):\n",
    "    \"\"\"Estimate the SNR from the FFT.\n",
    "\n",
    "    Estimate the Signal-to-Noise Ratio (SNR), given the in-band bins of\n",
    "    a Hann-windowed FFT and the location ``f0`` of the input signal (f>0).\n",
    "    For ``nsig = 1``, the input tone is contained in ``hwfft(f:f+2)``,\n",
    "    this range is appropriate for a Hann-windowed FFT.\n",
    "\n",
    "    Each increment in ``nsig`` adds a bin to either side.\n",
    "\n",
    "    The SNR is expressed in dB.\n",
    "\n",
    "    **Parameters:**\n",
    "\n",
    "    hwfft : sequence\n",
    "            the FFT\n",
    "\n",
    "    f : integer\n",
    "        Location of the input signal. Normalized.\n",
    "\n",
    "    .. note:: f = 0 corresponds to DC, as Python indexing starts from 0.\n",
    "\n",
    "    nsig : integer, optional\n",
    "           Extra bins added to either side. Defaults to 1.\n",
    "\n",
    "    **Returns:**\n",
    "\n",
    "    SNR : scalar\n",
    "          The computed SNR value in dB.\n",
    "\n",
    "    \"\"\"\n",
    "    hwfft = hwfft.squeeze()\n",
    "    signalBins = np.arange(f - nsig + 1, f + nsig + 2, dtype='int64')\n",
    "    signalBins = signalBins[signalBins > 0]\n",
    "    signalBins = signalBins[signalBins <= max(hwfft.shape)]\n",
    "    s = norm(hwfft[signalBins - 1]) # *4/(N*sqrt(3)) for true rms value;\n",
    "    print(s)\n",
    "    noiseBins = np.arange(1, max(hwfft.shape) + 1, dtype='int64')\n",
    "    noiseBins = np.delete(noiseBins, noiseBins[signalBins - 1] - 1)\n",
    "    n = norm(hwfft[noiseBins - 1])\n",
    "    print(n)\n",
    "    if n == 0:\n",
    "        snr = np.Inf\n",
    "    else:\n",
    "        #snr = dbv(s/n)\n",
    "        snr = control.mag2db(s/n)\n",
    "    return snr\n",
    "\n",
    "'''\n",
    "x = np.fft.fft(y)\n",
    "#x = y\n",
    "x = calculateSNR(x, 200)\n",
    "x = x.round(2)\n",
    "print('snr = ', x, 'dB')\n",
    "'''"
   ]
  },
  {
   "cell_type": "code",
   "execution_count": 58,
   "metadata": {},
   "outputs": [],
   "source": [
    "fname = 'FPTOpenSpeechData_Set001_V0.1_000024.wav'\n",
    "y, sr = librosa.load(fname)"
   ]
  },
  {
   "cell_type": "code",
   "execution_count": 10,
   "metadata": {},
   "outputs": [
    {
     "data": {
      "text/plain": [
       "Text(0.5, 1.0, 'Monophonic')"
      ]
     },
     "execution_count": 10,
     "metadata": {},
     "output_type": "execute_result"
    },
    {
     "data": {
      "image/png": "[encoded data removed]",
      "text/plain": [
       "<Figure size 432x288 with 1 Axes>"
      ]
     },
     "metadata": {
      "needs_background": "light"
     },
     "output_type": "display_data"
    }
   ],
   "source": [
    "plt.figure()\n",
    "librosa.display.waveplot(y, sr=sr)\n",
    "plt.title('Monophonic')"
   ]
  },
  {
   "cell_type": "code",
   "execution_count": 68,
   "metadata": {},
   "outputs": [
    {
     "name": "stdout",
     "output_type": "stream",
     "text": [
      "\n",
      "signaltonoise ratio for audio file y :  37.17 dB\n"
     ]
    }
   ],
   "source": [
    "'''\n",
    "arr1 = [[20, 2, 7, 1, 34], \n",
    "        [50, 12, 12, 34, 4]] \n",
    "  \n",
    "arr2 = [50, 12, 12, 34, 4] \n",
    "  \n",
    "print (\"\\narr1 : \", arr1) \n",
    "print (\"\\narr2 : \", arr2) \n",
    " \n",
    "print (\"\\nsignaltonoise ratio for arr1 : \",  \n",
    "       signaltonoise(arr1, axis = 0, ddof = 0)) \n",
    "  \n",
    "print (\"\\nsignaltonoise ratio for arr1 : \",  \n",
    "       signaltonoise(arr1, axis = 1, ddof = 0)) \n",
    "  \n",
    "print (\"\\nsignaltonoise ratio for arr2 : \",  \n",
    "       signaltonoise(arr2, axis = 0, ddof = 0))\n",
    "'''\n",
    "\n",
    "#shifting y to form non-zero waveform\n",
    "y2 = y\n",
    "y2 += abs(y2.min())\n",
    "snr_val = signaltonoise(y2, axis = 0, ddof = 0)\n",
    "snr_val = 20 * math.log(snr_val) #dB\n",
    "snr_val = round(snr_val, 2)\n",
    "print (\"\\nsignaltonoise ratio for audio file y : \", snr_val, \"dB\") #somehow reasonable at 37.17 dB"
   ]
  },
  {
   "cell_type": "code",
   "execution_count": null,
   "metadata": {},
   "outputs": [],
   "source": []
  }
 ],
 "metadata": {
  "kernelspec": {
   "display_name": "Python 3",
   "language": "python",
   "name": "python3"
  },
  "language_info": {
   "codemirror_mode": {
    "name": "ipython",
    "version": 3
   },
   "file_extension": ".py",
   "mimetype": "text/x-python",
   "name": "python",
   "nbconvert_exporter": "python",
   "pygments_lexer": "ipython3",
   "version": "3.7.6"
  }
 },
 "nbformat": 4,
 "nbformat_minor": 4
}
